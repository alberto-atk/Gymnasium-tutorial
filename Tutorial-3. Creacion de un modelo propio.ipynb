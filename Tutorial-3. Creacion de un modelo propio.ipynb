{
 "cells": [
  {
   "cell_type": "markdown",
   "id": "c5c3bfd1",
   "metadata": {},
   "source": [
    "# Creación de un modelo\n",
    "Una vez vistas las posibilidades que ofrece, se va a modificar la librería para poder crear un entorno con sus acciones y agentes personalizado, para comprobar de una forma más extensa las funcionalidades de la librería."
   ]
  }
 ],
 "metadata": {
  "kernelspec": {
   "display_name": "Python 3 (ipykernel)",
   "language": "python",
   "name": "python3"
  },
  "language_info": {
   "codemirror_mode": {
    "name": "ipython",
    "version": 3
   },
   "file_extension": ".py",
   "mimetype": "text/x-python",
   "name": "python",
   "nbconvert_exporter": "python",
   "pygments_lexer": "ipython3",
   "version": "3.9.15"
  }
 },
 "nbformat": 4,
 "nbformat_minor": 5
}
