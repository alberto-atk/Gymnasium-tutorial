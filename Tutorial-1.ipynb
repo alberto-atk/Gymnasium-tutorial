{
 "cells": [
  {
   "cell_type": "markdown",
   "id": "5ac6178f",
   "metadata": {},
   "source": [
    "# Gymnasium \n",
    "\n",
    "Gymnasium, es una librería de aprendizaje reforzado, por lo que utiliza el bucle agente-entorno:\n",
    "\n",
    "\n",
    "<img src=\"./media/AE_loop.png\" width=\"350px\"/>\n",
    "\n",
    "Los elementos que aparecen en la imagen, dentro de gymnasium funcionarán de la siguiente forma:\n",
    "\n",
    "## Enviroment\n",
    "TODO MIRAR LO DE MULTIAGENTE DE PETTINGZOO <br> <br>\n",
    "En esta clase, se encapsula el entorno que puede ser observado por el agente, se va a trabajar con el entorno *LunarLander*, para demostrar todas las propiedades de las clases entorno:\n",
    "\n",
    "<img src=\"./media/LunarLander.gif\" width=\"350px\"/>\n"
   ]
  },
  {
   "cell_type": "code",
   "execution_count": 65,
   "id": "33c4e5a4",
   "metadata": {},
   "outputs": [],
   "source": [
    "import gymnasium as gym\n",
    "#Carga del entorno para trabajar con la clase\n",
    "lunarLander = gym.make('CartPole-v1') "
   ]
  },
  {
   "cell_type": "markdown",
   "id": "0812c7b8",
   "metadata": {},
   "source": [
    "Una clase del tipo entorno, consta de los siguientes atributos para facilitar su implementación:\n",
    "- **action_space:** es el objeto de espacios correspondiente a las acciones válidas."
   ]
  },
  {
   "cell_type": "code",
   "execution_count": 10,
   "id": "ce4c7dbe",
   "metadata": {},
   "outputs": [
    {
     "name": "stdout",
     "output_type": "stream",
     "text": [
      "Discrete(4)\n",
      "<class 'gymnasium.spaces.discrete.Discrete'>\n"
     ]
    }
   ],
   "source": [
    "print(lunarLander.action_space)\n",
    "print(type(lunarLander.action_space))"
   ]
  },
  {
   "cell_type": "markdown",
   "id": "aaafa5fb",
   "metadata": {},
   "source": [
    "Como se puede apreciar *action_space* es un objeto del tipo Discrete, esta clase también es de gymnasium y representa un espacio finito de muchos elementos, concretamente números enteros. <br>\n",
    "Estos números, posteriormente representarán acciones (a definir por el modelo). Por ejemplo, las acciones del modelo anterior serían:\n",
    "- **0:** no hacer nada\n",
    "- **1:** encender el motor izquierdo\n",
    "- **2:** encender el motor principal (ambos)\n",
    "- **3:** encender el motor derecho\n",
    "\n",
    "Para crear un objeto de este tipo, será necesario indicar el número de elementos del espacio (4 en el caso anterior), el elemento más pequeño del espacio (inicio) y opcionalmente, una semilla en caso de querer que sea aleatorio."
   ]
  },
  {
   "cell_type": "code",
   "execution_count": 21,
   "id": "d7699de8",
   "metadata": {},
   "outputs": [
    {
     "name": "stdout",
     "output_type": "stream",
     "text": [
      "Discrete(2)\n"
     ]
    }
   ],
   "source": [
    "d = gym.spaces.Discrete(2,start=0)\n",
    "print(d)"
   ]
  },
  {
   "cell_type": "markdown",
   "id": "49e3f057",
   "metadata": {},
   "source": [
    "- **observation_space: ** es el espacio de observaciones de un entorno."
   ]
  },
  {
   "cell_type": "code",
   "execution_count": 66,
   "id": "0b99c2d7",
   "metadata": {},
   "outputs": [
    {
     "name": "stdout",
     "output_type": "stream",
     "text": [
      "[4.8000002e+00 3.4028235e+38 4.1887903e-01 3.4028235e+38]\n"
     ]
    }
   ],
   "source": [
    "#print(\"{}\".format(lunarLander.observation_space))\n",
    "print(lunarLander.observation_space.high)"
   ]
  },
  {
   "cell_type": "markdown",
   "id": "18f0db88",
   "metadata": {},
   "source": [
    "El espacio de observaciones, es un objeto tipo *Box*, el cual representa el producto cartesiano de dos intervalos n:\n",
    "<img src=\"./media/productoCartesiano.png\" width=\"350px\"/>\n",
    "Los límites de los intervalos pueden ser de una de las siguientes formas, $[a,b], (-\\infty,b],[a,\\infty) o (-\\infty,\\infty) $\n",
    "- \n"
   ]
  },
  {
   "cell_type": "code",
   "execution_count": 61,
   "id": "1b5a6f5e",
   "metadata": {},
   "outputs": [
    {
     "name": "stdout",
     "output_type": "stream",
     "text": [
      "Box(-2.0, [2. 4.], (2,), float32)\n"
     ]
    }
   ],
   "source": [
    "import numpy as np\n",
    "b = gym.spaces.Box(low=-2.0, high=np.array([2.0, 4.0]), dtype=np.float32)\n",
    "print(b)"
   ]
  },
  {
   "cell_type": "markdown",
   "id": "6f9f1237",
   "metadata": {},
   "source": [
    "\n",
    "- **reward_range:**\n",
    "- **spec:**\n",
    "- **metadata:**\n",
    "- **np_random:**"
   ]
  },
  {
   "cell_type": "code",
   "execution_count": null,
   "id": "736da69f",
   "metadata": {},
   "outputs": [],
   "source": []
  },
  {
   "cell_type": "code",
   "execution_count": null,
   "id": "a59037cb",
   "metadata": {},
   "outputs": [],
   "source": []
  },
  {
   "cell_type": "code",
   "execution_count": null,
   "id": "a9ac76fd",
   "metadata": {},
   "outputs": [],
   "source": []
  },
  {
   "cell_type": "code",
   "execution_count": null,
   "id": "e7acb36e",
   "metadata": {},
   "outputs": [],
   "source": []
  },
  {
   "cell_type": "markdown",
   "id": "2c50678a",
   "metadata": {},
   "source": [
    "Los métodos principales con los que se puede trabajar con el entorno son:\n",
    "\n",
    "- **step(self, action: ActType) &rarr; tuple[ObsType, SupportsFloat, bool, bool, dict[str, Any]]:** Actualiza el entorno con la acción pasada por parámetros, devolviendo la siguiente observación del agente, la recompensa obtenida, si la ejecución del entorno ha terminado debido a la última acción e información del entorno sobre la acción e información de depuración.\n",
    "- **reset(self, seed) &rarr; tuple[ObsType, dict[str, Any]]:** El entorno vuelve al estado inicial y devuelve la primera observación del agente e información como métricas, debug...\n",
    "- **render(self) &rarr; RenderFrame | list[RenderFrame] | None:** Renderiza el entorno para que se pueda visualizar.\n",
    "- **close(self):** cierra el entorno y acaba la ejecución (similar a cuandos se cierra un fichero).\n",
    "\n",
    "Para ver el funcionamiento de los métodos anteriores, se carga un modelo de ejemplo con *\"gym.make()\"*:"
   ]
  },
  {
   "cell_type": "code",
   "execution_count": 3,
   "id": "83b3aca0",
   "metadata": {},
   "outputs": [
    {
     "name": "stdout",
     "output_type": "stream",
     "text": [
      "<class 'gymnasium.wrappers.time_limit.TimeLimit'>\n"
     ]
    },
    {
     "data": {
      "text/plain": [
       "'\\nobservation, info = env.reset()\\nprint(\"Observation: {}, info: {}\".format(observation,info))\\n\\naction = 0\\nprint(\"Action: {}\".format(action))\\n\\n\\nobservation, reward, terminated, truncated, info = env.step(action)\\nprint(\"Observation: {}, info: {}\".format(observation,info))\\n'"
      ]
     },
     "execution_count": 3,
     "metadata": {},
     "output_type": "execute_result"
    }
   ],
   "source": [
    "import gymnasium as gym\n",
    "env = gym.make('CartPole-v1')\n",
    "print(type(env))\n",
    "\n",
    "\"\"\"\n",
    "observation, info = env.reset()\n",
    "print(\"Observation: {}, info: {}\".format(observation,info))\n",
    "\n",
    "action = 0\n",
    "print(\"Action: {}\".format(action))\n",
    "\n",
    "\n",
    "observation, reward, terminated, truncated, info = env.step(action)\n",
    "print(\"Observation: {}, info: {}\".format(observation,info))\n",
    "\"\"\""
   ]
  }
 ],
 "metadata": {
  "kernelspec": {
   "display_name": "Python 3 (ipykernel)",
   "language": "python",
   "name": "python3"
  },
  "language_info": {
   "codemirror_mode": {
    "name": "ipython",
    "version": 3
   },
   "file_extension": ".py",
   "mimetype": "text/x-python",
   "name": "python",
   "nbconvert_exporter": "python",
   "pygments_lexer": "ipython3",
   "version": "3.9.15"
  }
 },
 "nbformat": 4,
 "nbformat_minor": 5
}
