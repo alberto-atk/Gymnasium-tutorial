{
 "cells": [
  {
   "cell_type": "markdown",
   "id": "5ac6178f",
   "metadata": {},
   "source": [
    "# Gymnasium \n",
    "\n",
    "Gymnasium, es una librería de aprendizaje reforzado, por lo que utiliza el bucle agente-entorno:\n",
    "\n",
    "\n",
    "<img src=\"./media/AE_loop.png\" width=\"350px\"/>\n",
    "\n",
    "Los elementos que aparecen en la imagen, dentro de gymnasium funcionarán de la siguiente forma:\n",
    "\n",
    "## Enviroment\n",
    "TODO MIRAR LO DE MULTIAGENTE DE PETTINGZOO EXPLICAR TAMBIEN LO DEL ESPACIO DE ESTADOS<br> <br>\n",
    "En esta clase, se encapsula el entorno que puede ser observado por el agente. Los métodos principales con los que se puede trabajar con el entorno son:\n",
    "\n",
    "- **step(self, action: ActType) &rarr; tuple[ObsType, SupportsFloat, bool, bool, dict[str, Any]]:** Actualiza el entorno con la acción pasada por parámetros, devolviendo la siguiente observación del agente, la recompensa obtenida, si la ejecución del entorno ha terminado debido a la última acción e información del entorno sobre la acción e información de depuración.\n",
    "- **reset(self, seed) &rarr; tuple[ObsType, dict[str, Any]]:** El entorno vuelve al estado inicial.\n",
    "- **render(self) &rarr; RenderFrame | list[RenderFrame] | None:** Renderiza el entorno para que se pueda visualizar.\n",
    "- **close(self):** cierra el entorno y acaba la ejecución (similar a cuandos se cierra un fichero).\n",
    "\n",
    "Para ver el funcionamiento de los métodos anteriores, se carga un modelo de ejemplo con *\"gym.make()\"*:"
   ]
  },
  {
   "cell_type": "code",
   "execution_count": 1,
   "id": "368c6a41",
   "metadata": {},
   "outputs": [
    {
     "name": "stdout",
     "output_type": "stream",
     "text": [
      "Observation: [ 0.02070739  0.0110453  -0.01608435  0.00350802], info: {}\n",
      "Action: 0\n",
      "Observation: [ 0.0209283  -0.18384233 -0.01601419  0.29107305], info: {}\n"
     ]
    },
    {
     "name": "stderr",
     "output_type": "stream",
     "text": [
      "/home/alberto/anaconda3/envs/gymnasium/lib/python3.9/site-packages/tqdm/auto.py:22: TqdmWarning: IProgress not found. Please update jupyter and ipywidgets. See https://ipywidgets.readthedocs.io/en/stable/user_install.html\n",
      "  from .autonotebook import tqdm as notebook_tqdm\n",
      "/home/alberto/anaconda3/envs/gymnasium/lib/python3.9/site-packages/gymnasium/utils/passive_env_checker.py:249: DeprecationWarning: `np.bool8` is a deprecated alias for `np.bool_`.  (Deprecated NumPy 1.24)\n",
      "  if not isinstance(terminated, (bool, np.bool8)):\n"
     ]
    }
   ],
   "source": [
    "import gymnasium as gym\n",
    "env = gym.make('CartPole-v1')\n",
    "\n",
    "observation, info = env.reset()\n",
    "print(\"Observation: {}, info: {}\".format(observation,info))\n",
    "\n",
    "action = 0\n",
    "print(\"Action: {}\".format(action))\n",
    "\n",
    "\n",
    "observation, reward, terminated, truncated, info = env.step(action)\n",
    "print(\"Observation: {}, info: {}\".format(observation,info))\n"
   ]
  }
 ],
 "metadata": {
  "kernelspec": {
   "display_name": "Python 3 (ipykernel)",
   "language": "python",
   "name": "python3"
  },
  "language_info": {
   "codemirror_mode": {
    "name": "ipython",
    "version": 3
   },
   "file_extension": ".py",
   "mimetype": "text/x-python",
   "name": "python",
   "nbconvert_exporter": "python",
   "pygments_lexer": "ipython3",
   "version": "3.9.15"
  }
 },
 "nbformat": 4,
 "nbformat_minor": 5
}
