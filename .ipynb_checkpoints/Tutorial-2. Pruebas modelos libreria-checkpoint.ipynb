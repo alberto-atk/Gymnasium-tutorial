{
 "cells": [
  {
   "cell_type": "markdown",
   "id": "3731c0c6",
   "metadata": {},
   "source": [
    "# Pruebas básicas\n",
    "Una vez vistas las clases por las que está formada gymnasium y de que trata, se van a realizar pruebas con varios entornos que existen para ver el funcionamiento general de la librería. <br>\n",
    "\n",
    "En esta primera prueba se va a lanzar un entorno de ejemplo con en el que las acciones que se van a tomar van a ser random, es decir, no se va a seguir ninguna política ni ningún tipo de entrenamiento. Este ejemplo, es únicamente para ver como sería una salida típica."
   ]
  },
  {
   "cell_type": "code",
   "execution_count": 3,
   "id": "38ef0e4c",
   "metadata": {},
   "outputs": [],
   "source": [
    "import gymnasium as gym\n",
    "env = gym.make(\"LunarLander-v2\", render_mode=\"human\")\n",
    "observation, info = env.reset() #primer reset necesario\n",
    "\n",
    "for _ in range(1000): #tiempo que está en ejecución el entorno\n",
    "    action = env.action_space.sample() #accion random\n",
    "    observation, reward, terminated, truncated, info = env.step(action)\n",
    "\n",
    "    if terminated or truncated: #finalizada la ejecución del anterior\n",
    "        observation, info = env.reset()\n",
    "\n",
    "env.close()"
   ]
  },
  {
   "cell_type": "markdown",
   "id": "889fb5f4",
   "metadata": {},
   "source": [
    "Una posible política para este problema sería que el robot intentase estar centrado, ya que la meta siempre aparece en el medio, un ejemplo para tomar es política podría ser:"
   ]
  },
  {
   "cell_type": "code",
   "execution_count": 6,
   "id": "80e9d77f",
   "metadata": {},
   "outputs": [],
   "source": [
    "import gymnasium as gym\n",
    "env = gym.make(\"LunarLander-v2\", render_mode=\"human\")\n",
    "observation, info = env.reset() #primer reset necesario\n",
    "\n",
    "for _ in range(1000): #tiempo que está en ejecución el entorno\n",
    "    if observation[4] > 0:\n",
    "        observation, reward, terminated, truncated, info = env.step(3)\n",
    "    else:\n",
    "        observation, reward, terminated, truncated, info = env.step(1)\n",
    "\n",
    "    if terminated or truncated: #finalizada la ejecución del anterior\n",
    "        observation, info = env.reset()\n",
    "\n",
    "env.close()"
   ]
  },
  {
   "cell_type": "code",
   "execution_count": 4,
   "id": "a531778d",
   "metadata": {},
   "outputs": [
    {
     "name": "stdout",
     "output_type": "stream",
     "text": [
      "[ 0.00572338  1.4127272   0.5797061   0.08030551 -0.00662524 -0.13131213\n",
      "  0.          0.        ]\n"
     ]
    }
   ],
   "source": [
    "env = gym.make(\"LunarLander-v2\", render_mode=\"human\")\n",
    "observation, info = env.reset() #primer reset necesario\n",
    "print(observation)\n",
    "env.close()"
   ]
  }
 ],
 "metadata": {
  "kernelspec": {
   "display_name": "Python 3 (ipykernel)",
   "language": "python",
   "name": "python3"
  },
  "language_info": {
   "codemirror_mode": {
    "name": "ipython",
    "version": 3
   },
   "file_extension": ".py",
   "mimetype": "text/x-python",
   "name": "python",
   "nbconvert_exporter": "python",
   "pygments_lexer": "ipython3",
   "version": "3.9.15"
  }
 },
 "nbformat": 4,
 "nbformat_minor": 5
}
