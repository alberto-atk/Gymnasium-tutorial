{
 "cells": [
  {
   "cell_type": "markdown",
   "id": "5ac6178f",
   "metadata": {},
   "source": [
    "# Gymnasium \n",
    "\n",
    "Gymnasium, es una librería de aprendizaje reforzado, por lo que utiliza el bucle agente-entorno:\n",
    "\n",
    "\n",
    "<img src=\"./media/AE_loop.png\" width=\"350px\"/>\n",
    "\n",
    "Los elementos que aparecen en la imagen, dentro de gymnasium funcionarán de la siguiente forma:\n",
    "\n",
    "## Enviroment\n",
    "TODO MIRAR LO DE MULTIAGENTE DE PETTINGZOO <br> <br>\n",
    "En esta clase, se encapsula el entorno que puede ser observado por el agente, se va a trabajar con el entorno *LunarLander*, para demostrar todas las propiedades de las clases entorno:\n",
    "\n",
    "<img src=\"./media/LunarLander.gif\" width=\"350px\"/>\n"
   ]
  },
  {
   "cell_type": "code",
   "execution_count": 3,
   "id": "33c4e5a4",
   "metadata": {},
   "outputs": [
    {
     "name": "stderr",
     "output_type": "stream",
     "text": [
      "/home/alberto/anaconda3/envs/gymnasium/lib/python3.9/site-packages/tqdm/auto.py:22: TqdmWarning: IProgress not found. Please update jupyter and ipywidgets. See https://ipywidgets.readthedocs.io/en/stable/user_install.html\n",
      "  from .autonotebook import tqdm as notebook_tqdm\n"
     ]
    }
   ],
   "source": [
    "import gymnasium as gym\n",
    "#Carga del entorno para trabajar con la clase\n",
    "lunarLander = gym.make('LunarLander-v2', render_mode=\"human\") "
   ]
  },
  {
   "cell_type": "markdown",
   "id": "0812c7b8",
   "metadata": {},
   "source": [
    "Una clase del tipo entorno, consta de los siguientes atributos para facilitar su implementación:\n",
    "\n",
    "### Atributos\n",
    "\n",
    "- **action_space:** es el objeto de espacios correspondiente a las acciones válidas."
   ]
  },
  {
   "cell_type": "code",
   "execution_count": 10,
   "id": "ce4c7dbe",
   "metadata": {},
   "outputs": [
    {
     "name": "stdout",
     "output_type": "stream",
     "text": [
      "Discrete(4)\n",
      "<class 'gymnasium.spaces.discrete.Discrete'>\n"
     ]
    }
   ],
   "source": [
    "print(lunarLander.action_space)\n",
    "print(type(lunarLander.action_space))"
   ]
  },
  {
   "cell_type": "markdown",
   "id": "aaafa5fb",
   "metadata": {},
   "source": [
    "Como se puede apreciar *action_space* es un objeto del tipo Discrete, esta clase también es de gymnasium y representa un espacio finito de muchos elementos, concretamente números enteros. <br>\n",
    "Estos números, posteriormente representarán acciones (a definir por el modelo). Por ejemplo, las acciones del modelo anterior serían:\n",
    "- **0:** no hacer nada\n",
    "- **1:** encender el motor izquierdo\n",
    "- **2:** encender el motor principal (ambos)\n",
    "- **3:** encender el motor derecho\n",
    "\n",
    "Para crear un objeto de este tipo, será necesario indicar el número de elementos del espacio (4 en el caso anterior), el elemento más pequeño del espacio (inicio) y opcionalmente, una semilla en caso de querer que sea aleatorio."
   ]
  },
  {
   "cell_type": "code",
   "execution_count": 21,
   "id": "d7699de8",
   "metadata": {},
   "outputs": [
    {
     "name": "stdout",
     "output_type": "stream",
     "text": [
      "Discrete(2)\n"
     ]
    }
   ],
   "source": [
    "d = gym.spaces.Discrete(2,start=0)\n",
    "print(d)"
   ]
  },
  {
   "cell_type": "markdown",
   "id": "49e3f057",
   "metadata": {},
   "source": [
    "- **observation_space:** es el espacio de observaciones de un entorno."
   ]
  },
  {
   "cell_type": "code",
   "execution_count": 66,
   "id": "0b99c2d7",
   "metadata": {},
   "outputs": [
    {
     "name": "stdout",
     "output_type": "stream",
     "text": [
      "[4.8000002e+00 3.4028235e+38 4.1887903e-01 3.4028235e+38]\n"
     ]
    }
   ],
   "source": [
    "#print(\"{}\".format(lunarLander.observation_space))\n",
    "print(lunarLander.observation_space.high)"
   ]
  },
  {
   "cell_type": "markdown",
   "id": "18f0db88",
   "metadata": {},
   "source": [
    "El espacio de observaciones, es un objeto tipo *Box*, el cual representa el producto cartesiano de dos intervalos n:\n",
    "<img src=\"./media/productoCartesiano.png\" width=\"350px\"/>\n",
    "Los límites de los intervalos pueden ser de una de las siguientes formas, $[a,b], (-\\infty,b],[a,\\infty) o (-\\infty,\\infty) $\n",
    "- \n"
   ]
  },
  {
   "cell_type": "code",
   "execution_count": 61,
   "id": "1b5a6f5e",
   "metadata": {},
   "outputs": [
    {
     "name": "stdout",
     "output_type": "stream",
     "text": [
      "Box(-2.0, [2. 4.], (2,), float32)\n"
     ]
    }
   ],
   "source": [
    "import numpy as np\n",
    "b = gym.spaces.Box(low=-2.0, high=np.array([2.0, 4.0]), dtype=np.float32)\n",
    "print(b)"
   ]
  },
  {
   "cell_type": "markdown",
   "id": "6f9f1237",
   "metadata": {},
   "source": [
    "\n",
    "- **reward_range:** es una tupla que hace referencia a la máxima y mínima recompensa posible para el agente en un momento (por defecto es en ($-\\infty,+\\infty)$\n"
   ]
  },
  {
   "cell_type": "code",
   "execution_count": 82,
   "id": "736da69f",
   "metadata": {},
   "outputs": [
    {
     "name": "stdout",
     "output_type": "stream",
     "text": [
      "(-inf, inf)\n"
     ]
    }
   ],
   "source": [
    "print(lunarLander.reward_range) \n",
    "\n",
    "#No se ha encontrado ningún modelo que tenga parámetros distintos a \n",
    "#los de por defecto\n",
    "\n"
   ]
  },
  {
   "cell_type": "markdown",
   "id": "b6757906",
   "metadata": {},
   "source": [
    "- **spec:** Contiene la información que ha utilizado el método make para inicializar el entorno.\n"
   ]
  },
  {
   "cell_type": "code",
   "execution_count": 83,
   "id": "f30dc4ba",
   "metadata": {},
   "outputs": [
    {
     "name": "stdout",
     "output_type": "stream",
     "text": [
      "EnvSpec(id='LunarLander-v2', entry_point='gymnasium.envs.box2d.lunar_lander:LunarLander', reward_threshold=200, nondeterministic=False, max_episode_steps=1000, order_enforce=True, autoreset=False, disable_env_checker=False, apply_api_compatibility=False, kwargs={}, namespace=None, name='LunarLander', version=2)\n"
     ]
    }
   ],
   "source": [
    "print(lunarLander.spec) "
   ]
  },
  {
   "cell_type": "markdown",
   "id": "3dbe6290",
   "metadata": {},
   "source": [
    "- **metadata:** Son los metadatos del entorno\n",
    "- **np_random:** El generador de números aleatorios para el entorno"
   ]
  },
  {
   "cell_type": "code",
   "execution_count": 86,
   "id": "92e66a36",
   "metadata": {},
   "outputs": [
    {
     "name": "stdout",
     "output_type": "stream",
     "text": [
      "{'render_modes': ['human', 'rgb_array'], 'render_fps': 50}\n",
      "\n",
      "Generator(PCG64)\n"
     ]
    }
   ],
   "source": [
    "print(str(lunarLander.metadata) + \"\\n\" ) \n",
    "print(lunarLander.np_random)"
   ]
  },
  {
   "cell_type": "markdown",
   "id": "3a5f1112",
   "metadata": {},
   "source": [
    "### Métodos\n",
    "Los métodos principales con los que se puede trabajar con el entorno son:\n",
    "\n",
    "\n",
    "- **reset(self, seed) &rarr; tuple[ObsType, dict[str, Any]]:** El entorno vuelve al estado inicial y devuelve la primera observación del agente e información como métricas, debug...\n",
    "\n",
    "En el caso de este entorno, es un vector de 8 dimensiones y cada una representa:\n",
    "1. Coordenada x de la nave\n",
    "2. Coordenada y de la nave\n",
    "3. Velocidad linear en x de la nave\n",
    "4. Velocidad linear en y de la nave\n",
    "5. Ángulo de la nave\n",
    "6. Velocidad angular de la nave\n",
    "7. Motor izquierdo en contacto con el suelo (booleano)\n",
    "8. Motor derecho en contacto con el suelo (booleano)\n"
   ]
  },
  {
   "cell_type": "code",
   "execution_count": 42,
   "id": "e7acb36e",
   "metadata": {},
   "outputs": [
    {
     "name": "stdout",
     "output_type": "stream",
     "text": [
      "La coordenada x de la nave es: -0.006809711456298828\n",
      "La coordenada y de la nave: 1.402424693107605\n",
      "La velocidad linear en x de la nave es: -0.6897678375244141\n",
      "La velocidad linear en y de la nave es: -0.37759706377983093\n",
      "El ángulo de la nave es: 0.007897558622062206\n",
      "La velocidad angular de la nave es: 0.1562427431344986\n",
      "Motor izquierdo en contacto?: 0.0\n",
      "Motor derecho en contacto?: 0.0\n",
      "Informacion extra: {}\n"
     ]
    }
   ],
   "source": [
    "observation, info = lunarLander.reset()\n",
    "\n",
    "print(\"La coordenada x de la nave es: {}\".format(observation[0]))\n",
    "print(\"La coordenada y de la nave: {}\".format(observation[1]))\n",
    "print(\"La velocidad linear en x de la nave es: {}\".format(observation[2]))\n",
    "print(\"La velocidad linear en y de la nave es: {}\".format(observation[3]))\n",
    "print(\"El ángulo de la nave es: {}\".format(observation[4]))\n",
    "print(\"La velocidad angular de la nave es: {}\".format(observation[5]))\n",
    "print(\"Motor izquierdo en contacto?: {}\".format(observation[6]))\n",
    "print(\"Motor derecho en contacto?: {}\".format(observation[7]))\n",
    "print(\"Informacion extra: {}\".format(info))\n"
   ]
  },
  {
   "cell_type": "markdown",
   "id": "2c50678a",
   "metadata": {},
   "source": [
    "- **step(self, action: ActType) &rarr; tuple[ObsType, SupportsFloat, bool, bool, dict[str, Any]]:** Actualiza el entorno con la acción pasada por parámetros, devolviendo la siguiente observación del agente, la recompensa obtenida, si la ejecución del entorno ha terminado debido a la última acción e información del entorno sobre la acción e información de depuración."
   ]
  },
  {
   "cell_type": "code",
   "execution_count": 45,
   "id": "83b3aca0",
   "metadata": {},
   "outputs": [
    {
     "name": "stdout",
     "output_type": "stream",
     "text": [
      "No se hace nada (en este caso unicamente se cae la nave): \n",
      "\n",
      "\n",
      "La coordenada x de la nave es: -0.04036521911621094\n",
      "La coordenada y de la nave: 1.3527436256408691\n",
      "La velocidad linear en x de la nave es: -0.6709190011024475\n",
      "La velocidad linear en y de la nave es: -0.47274255752563477\n",
      "El ángulo de la nave es: 0.03860168531537056\n",
      "La velocidad angular de la nave es: 0.11921069771051407\n",
      "Motor izquierdo en contacto?: 0.0\n",
      "Motor derecho en contacto?: 0.0\n",
      "\n",
      "\n",
      "Se encienden los dos motores: \n",
      "\n",
      "\n",
      "La coordenada x de la nave es: -0.046959780156612396\n",
      "La coordenada y de la nave: 1.343008041381836\n",
      "La velocidad linear en x de la nave es: -0.6659213304519653\n",
      "La velocidad linear en y de la nave es: -0.43286916613578796\n",
      "El ángulo de la nave es: 0.04500451311469078\n",
      "La velocidad angular de la nave es: 0.12806841731071472\n",
      "Motor izquierdo en contacto?: 0.0\n",
      "Motor derecho en contacto?: 0.0\n"
     ]
    }
   ],
   "source": [
    "observation, reward, terminated, truncated, info = lunarLander.step(0)\n",
    "#No se hace nada \n",
    "print(\"No se hace nada (en este caso unicamente se cae la nave): \\n\\n\")\n",
    "print(\"La coordenada x de la nave es: {}\".format(observation[0]))\n",
    "print(\"La coordenada y de la nave: {}\".format(observation[1]))\n",
    "print(\"La velocidad linear en x de la nave es: {}\".format(observation[2]))\n",
    "print(\"La velocidad linear en y de la nave es: {}\".format(observation[3]))\n",
    "print(\"El ángulo de la nave es: {}\".format(observation[4]))\n",
    "print(\"La velocidad angular de la nave es: {}\".format(observation[5]))\n",
    "print(\"Motor izquierdo en contacto?: {}\".format(observation[6]))\n",
    "print(\"Motor derecho en contacto?: {}\".format(observation[7]))\n",
    "\n",
    "\n",
    "observation, reward, terminated, truncated, info = lunarLander.step(2) \n",
    "#Se encienden los dos motores\n",
    "print(\"\\n\\nSe encienden los dos motores: \\n\\n\")\n",
    "print(\"La coordenada x de la nave es: {}\".format(observation[0]))\n",
    "print(\"La coordenada y de la nave: {}\".format(observation[1]))\n",
    "print(\"La velocidad linear en x de la nave es: {}\".format(observation[2]))\n",
    "print(\"La velocidad linear en y de la nave es: {}\".format(observation[3]))\n",
    "print(\"El ángulo de la nave es: {}\".format(observation[4]))\n",
    "print(\"La velocidad angular de la nave es: {}\".format(observation[5]))\n",
    "print(\"Motor izquierdo en contacto?: {}\".format(observation[6]))\n",
    "print(\"Motor derecho en contacto?: {}\".format(observation[7]))"
   ]
  },
  {
   "cell_type": "markdown",
   "id": "bd8af9ca",
   "metadata": {},
   "source": [
    "En este caso, se puede apreciar que la coordenada *y* desciende la primera vez 0.5 al no realizar ninguna acción. <br> <br>\n",
    "Después de realizar el segundo paso (encender ambos motores), el descenso en el eje *y* es de 0.1 (mucho menor que en la primera ejecución), por lo que se demuestra que se ha ejecutado la acción, ya que al encenderse ambos motores no se ha producido un descenso tan grande como en la primera."
   ]
  },
  {
   "cell_type": "markdown",
   "id": "759a4980",
   "metadata": {},
   "source": [
    "- **render(self) &rarr; RenderFrame | list[RenderFrame] | None:** Renderiza el entorno para que se pueda visualizar. Es necesario que se especifique el tipo de renderizado a la hora de realizar el *make* "
   ]
  },
  {
   "cell_type": "code",
   "execution_count": 4,
   "id": "be960ca6",
   "metadata": {},
   "outputs": [],
   "source": [
    "lunarLander.reset()\n",
    "lunarLander.render()"
   ]
  },
  {
   "cell_type": "markdown",
   "id": "5b7b34c2",
   "metadata": {},
   "source": [
    "- **close(self):** cierra el entorno y acaba la ejecución (similar a cuandos se cierra un fichero)."
   ]
  },
  {
   "cell_type": "code",
   "execution_count": 5,
   "id": "b6ede7d3",
   "metadata": {},
   "outputs": [],
   "source": [
    "lunarLander.close()"
   ]
  }
 ],
 "metadata": {
  "kernelspec": {
   "display_name": "Python 3 (ipykernel)",
   "language": "python",
   "name": "python3"
  },
  "language_info": {
   "codemirror_mode": {
    "name": "ipython",
    "version": 3
   },
   "file_extension": ".py",
   "mimetype": "text/x-python",
   "name": "python",
   "nbconvert_exporter": "python",
   "pygments_lexer": "ipython3",
   "version": "3.9.15"
  }
 },
 "nbformat": 4,
 "nbformat_minor": 5
}
