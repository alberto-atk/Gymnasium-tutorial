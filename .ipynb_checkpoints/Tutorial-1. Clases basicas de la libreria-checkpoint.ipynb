{
 "cells": [
  {
   "cell_type": "markdown",
   "id": "5ac6178f",
   "metadata": {},
   "source": [
    "# Gymnasium \n",
    "\n",
    "Gymnasium, es una librería de aprendizaje reforzado, por lo que utiliza el bucle agente-entorno:\n",
    "\n",
    "\n",
    "<img src=\"./media/AE_loop.png\" width=\"350px\"/>\n",
    "\n",
    "Para conseguir la interacción correcta entre los elementos que aparecen en la imagen, dentro de gymnasium se encuentran las siguientes clases principales:\n",
    "\n",
    "## Registry\n",
    "En gymnasium, se pueden utilizar wrappers es decir, entornos pre-cargados que se pueden incluir en la propia librería o ser externos, para poder realizar pruebas con los mismos. Los distintos entornos pueden ser de terceros o estar incluidos con la librería. En este caso, al ser un tutorial completo cuando se installa gymnasium (*pip install gymnasium[all]*), se instalan los entornos de los siguientes paquetes:\n",
    "- **Classic Control:** Estos entornos, son estocásticos refiriéndose al estado inicial. Estos entornos, se podrían considerar los más sencillos para resolverlos mediante una política. \n",
    "- **Box2d:** Son entornos basados en juegos relacionados con la física, utilizando las físicas de box2d y el renderizado de PyGame.\n",
    "- **Toy Text:** Entornos muy simples, deiseñados para que tengan un espacio de estados y acciones pequeño, siendo buenos entornos para realizar debug sobre algoritmos de aprendizaje reforzado.\n",
    "- **Mujoco:** Estos entornos, están preparados para dinámicas multiarticulares con contacto, es decir, orientados al desarrollo en robótica, biomecánica, gráficos, animación... es decir, areas donde una simulación certera y rápida es necesaria. Para ello, es necesario instalar de forma extra el el engine de MuJoCo\n",
    "- **Atari:** Para poder utilizar estos entornos, es necesario ejecutar el siguiente comando *pip install gymnasium[accept-rom-license]*, el cual instalará AutoROM y descargará las ROMs (únicamente con el comando all o el específico con atari no es necesario). En este caso el espacio de acciones será común para todos los entornos al ser juegos que pertenecen a la misma consola, por lo que siempre se realizan las mismas acciones. Finalmente, estos entornos están simulados por Arcade Learning Enviroment (ALE).\n",
    "\n",
    "Para mostrar todos los paquetes con los entornos que se encuentran instalados en nuestro sistema, se utilizará la función *pprint_registry()*."
   ]
  },
  {
   "cell_type": "code",
   "execution_count": 3,
   "id": "0d824bce",
   "metadata": {
    "scrolled": true
   },
   "outputs": [
    {
     "name": "stdout",
     "output_type": "stream",
     "text": [
      "===== classic_control =====\n",
      "Acrobot-v1                           CartPole-v0                          CartPole-v1\n",
      "MountainCar-v0                       MountainCarContinuous-v0             Pendulum-v1\n",
      "\n",
      "===== phys2d =====\n",
      "CartPoleJax-v0                       CartPoleJax-v1                       PendulumJax-v0\n",
      "\n",
      "===== box2d =====\n",
      "BipedalWalker-v3                     BipedalWalkerHardcore-v3             CarRacing-v2\n",
      "LunarLander-v2                       LunarLanderContinuous-v2\n",
      "\n",
      "===== toy_text =====\n",
      "Blackjack-v1                         CliffWalking-v0                      FrozenLake-v1\n",
      "FrozenLake8x8-v1                     Taxi-v3\n",
      "\n",
      "===== mujoco =====\n",
      "Ant-v2                               Ant-v3                               Ant-v4\n",
      "HalfCheetah-v2                       HalfCheetah-v3                       HalfCheetah-v4\n",
      "Hopper-v2                            Hopper-v3                            Hopper-v4\n",
      "Humanoid-v2                          Humanoid-v3                          Humanoid-v4\n",
      "HumanoidStandup-v2                   HumanoidStandup-v4                   InvertedDoublePendulum-v2\n",
      "InvertedDoublePendulum-v4            InvertedPendulum-v2                  InvertedPendulum-v4\n",
      "Pusher-v2                            Pusher-v4                            Reacher-v2\n",
      "Reacher-v4                           Swimmer-v2                           Swimmer-v3\n",
      "Swimmer-v4                           Walker2d-v2                          Walker2d-v3\n",
      "Walker2d-v4\n",
      "\n",
      "===== openai_gym_compatibility =====\n",
      "GymV22Environment-v0                 GymV26Environment-v0\n",
      "\n",
      "===== atari_env =====\n",
      "Adventure-ram-v0                     Adventure-ram-v4                     Adventure-ramDeterministic-v0\n",
      "Adventure-ramDeterministic-v4        Adventure-ramNoFrameskip-v0          Adventure-ramNoFrameskip-v4\n",
      "Adventure-v0                         Adventure-v4                         AdventureDeterministic-v0\n",
      "AdventureDeterministic-v4            AdventureNoFrameskip-v0              AdventureNoFrameskip-v4\n",
      "AirRaid-ram-v0                       AirRaid-ram-v4                       AirRaid-ramDeterministic-v0\n",
      "AirRaid-ramDeterministic-v4          AirRaid-ramNoFrameskip-v0            AirRaid-ramNoFrameskip-v4\n",
      "AirRaid-v0                           AirRaid-v4                           AirRaidDeterministic-v0\n",
      "AirRaidDeterministic-v4              AirRaidNoFrameskip-v0                AirRaidNoFrameskip-v4\n",
      "Alien-ram-v0                         Alien-ram-v4                         Alien-ramDeterministic-v0\n",
      "Alien-ramDeterministic-v4            Alien-ramNoFrameskip-v0              Alien-ramNoFrameskip-v4\n",
      "Alien-v0                             Alien-v4                             AlienDeterministic-v0\n",
      "AlienDeterministic-v4                AlienNoFrameskip-v0                  AlienNoFrameskip-v4\n",
      "Amidar-ram-v0                        Amidar-ram-v4                        Amidar-ramDeterministic-v0\n",
      "Amidar-ramDeterministic-v4           Amidar-ramNoFrameskip-v0             Amidar-ramNoFrameskip-v4\n",
      "Amidar-v0                            Amidar-v4                            AmidarDeterministic-v0\n",
      "AmidarDeterministic-v4               AmidarNoFrameskip-v0                 AmidarNoFrameskip-v4\n",
      "Assault-ram-v0                       Assault-ram-v4                       Assault-ramDeterministic-v0\n",
      "Assault-ramDeterministic-v4          Assault-ramNoFrameskip-v0            Assault-ramNoFrameskip-v4\n",
      "Assault-v0                           Assault-v4                           AssaultDeterministic-v0\n",
      "AssaultDeterministic-v4              AssaultNoFrameskip-v0                AssaultNoFrameskip-v4\n",
      "Asterix-ram-v0                       Asterix-ram-v4                       Asterix-ramDeterministic-v0\n",
      "Asterix-ramDeterministic-v4          Asterix-ramNoFrameskip-v0            Asterix-ramNoFrameskip-v4\n",
      "Asterix-v0                           Asterix-v4                           AsterixDeterministic-v0\n",
      "AsterixDeterministic-v4              AsterixNoFrameskip-v0                AsterixNoFrameskip-v4\n",
      "Asteroids-ram-v0                     Asteroids-ram-v4                     Asteroids-ramDeterministic-v0\n",
      "Asteroids-ramDeterministic-v4        Asteroids-ramNoFrameskip-v0          Asteroids-ramNoFrameskip-v4\n",
      "Asteroids-v0                         Asteroids-v4                         AsteroidsDeterministic-v0\n",
      "AsteroidsDeterministic-v4            AsteroidsNoFrameskip-v0              AsteroidsNoFrameskip-v4\n",
      "Atlantis-ram-v0                      Atlantis-ram-v4                      Atlantis-ramDeterministic-v0\n",
      "Atlantis-ramDeterministic-v4         Atlantis-ramNoFrameskip-v0           Atlantis-ramNoFrameskip-v4\n",
      "Atlantis-v0                          Atlantis-v4                          AtlantisDeterministic-v0\n",
      "AtlantisDeterministic-v4             AtlantisNoFrameskip-v0               AtlantisNoFrameskip-v4\n",
      "BankHeist-ram-v0                     BankHeist-ram-v4                     BankHeist-ramDeterministic-v0\n",
      "BankHeist-ramDeterministic-v4        BankHeist-ramNoFrameskip-v0          BankHeist-ramNoFrameskip-v4\n",
      "BankHeist-v0                         BankHeist-v4                         BankHeistDeterministic-v0\n",
      "BankHeistDeterministic-v4            BankHeistNoFrameskip-v0              BankHeistNoFrameskip-v4\n",
      "BattleZone-ram-v0                    BattleZone-ram-v4                    BattleZone-ramDeterministic-v0\n",
      "BattleZone-ramDeterministic-v4       BattleZone-ramNoFrameskip-v0         BattleZone-ramNoFrameskip-v4\n",
      "BattleZone-v0                        BattleZone-v4                        BattleZoneDeterministic-v0\n",
      "BattleZoneDeterministic-v4           BattleZoneNoFrameskip-v0             BattleZoneNoFrameskip-v4\n",
      "BeamRider-ram-v0                     BeamRider-ram-v4                     BeamRider-ramDeterministic-v0\n",
      "BeamRider-ramDeterministic-v4        BeamRider-ramNoFrameskip-v0          BeamRider-ramNoFrameskip-v4\n",
      "BeamRider-v0                         BeamRider-v4                         BeamRiderDeterministic-v0\n",
      "BeamRiderDeterministic-v4            BeamRiderNoFrameskip-v0              BeamRiderNoFrameskip-v4\n",
      "Berzerk-ram-v0                       Berzerk-ram-v4                       Berzerk-ramDeterministic-v0\n",
      "Berzerk-ramDeterministic-v4          Berzerk-ramNoFrameskip-v0            Berzerk-ramNoFrameskip-v4\n",
      "Berzerk-v0                           Berzerk-v4                           BerzerkDeterministic-v0\n",
      "BerzerkDeterministic-v4              BerzerkNoFrameskip-v0                BerzerkNoFrameskip-v4\n",
      "Bowling-ram-v0                       Bowling-ram-v4                       Bowling-ramDeterministic-v0\n",
      "Bowling-ramDeterministic-v4          Bowling-ramNoFrameskip-v0            Bowling-ramNoFrameskip-v4\n",
      "Bowling-v0                           Bowling-v4                           BowlingDeterministic-v0\n",
      "BowlingDeterministic-v4              BowlingNoFrameskip-v0                BowlingNoFrameskip-v4\n",
      "Boxing-ram-v0                        Boxing-ram-v4                        Boxing-ramDeterministic-v0\n",
      "Boxing-ramDeterministic-v4           Boxing-ramNoFrameskip-v0             Boxing-ramNoFrameskip-v4\n",
      "Boxing-v0                            Boxing-v4                            BoxingDeterministic-v0\n",
      "BoxingDeterministic-v4               BoxingNoFrameskip-v0                 BoxingNoFrameskip-v4\n",
      "Breakout-ram-v0                      Breakout-ram-v4                      Breakout-ramDeterministic-v0\n",
      "Breakout-ramDeterministic-v4         Breakout-ramNoFrameskip-v0           Breakout-ramNoFrameskip-v4\n",
      "Breakout-v0                          Breakout-v4                          BreakoutDeterministic-v0\n",
      "BreakoutDeterministic-v4             BreakoutNoFrameskip-v0               BreakoutNoFrameskip-v4\n",
      "Carnival-ram-v0                      Carnival-ram-v4                      Carnival-ramDeterministic-v0\n",
      "Carnival-ramDeterministic-v4         Carnival-ramNoFrameskip-v0           Carnival-ramNoFrameskip-v4\n",
      "Carnival-v0                          Carnival-v4                          CarnivalDeterministic-v0\n",
      "CarnivalDeterministic-v4             CarnivalNoFrameskip-v0               CarnivalNoFrameskip-v4\n",
      "Centipede-ram-v0                     Centipede-ram-v4                     Centipede-ramDeterministic-v0\n",
      "Centipede-ramDeterministic-v4        Centipede-ramNoFrameskip-v0          Centipede-ramNoFrameskip-v4\n",
      "Centipede-v0                         Centipede-v4                         CentipedeDeterministic-v0\n",
      "CentipedeDeterministic-v4            CentipedeNoFrameskip-v0              CentipedeNoFrameskip-v4\n",
      "ChopperCommand-ram-v0                ChopperCommand-ram-v4                ChopperCommand-ramDeterministic-v0\n",
      "ChopperCommand-ramDeterministic-v4   ChopperCommand-ramNoFrameskip-v0     ChopperCommand-ramNoFrameskip-v4\n",
      "ChopperCommand-v0                    ChopperCommand-v4                    ChopperCommandDeterministic-v0\n",
      "ChopperCommandDeterministic-v4       ChopperCommandNoFrameskip-v0         ChopperCommandNoFrameskip-v4\n",
      "CrazyClimber-ram-v0                  CrazyClimber-ram-v4                  CrazyClimber-ramDeterministic-v0\n",
      "CrazyClimber-ramDeterministic-v4     CrazyClimber-ramNoFrameskip-v0       CrazyClimber-ramNoFrameskip-v4\n",
      "CrazyClimber-v0                      CrazyClimber-v4                      CrazyClimberDeterministic-v0\n",
      "CrazyClimberDeterministic-v4         CrazyClimberNoFrameskip-v0           CrazyClimberNoFrameskip-v4\n",
      "Defender-ram-v0                      Defender-ram-v4                      Defender-ramDeterministic-v0\n",
      "Defender-ramDeterministic-v4         Defender-ramNoFrameskip-v0           Defender-ramNoFrameskip-v4\n",
      "Defender-v0                          Defender-v4                          DefenderDeterministic-v0\n",
      "DefenderDeterministic-v4             DefenderNoFrameskip-v0               DefenderNoFrameskip-v4\n",
      "DemonAttack-ram-v0                   DemonAttack-ram-v4                   DemonAttack-ramDeterministic-v0\n",
      "DemonAttack-ramDeterministic-v4      DemonAttack-ramNoFrameskip-v0        DemonAttack-ramNoFrameskip-v4\n",
      "DemonAttack-v0                       DemonAttack-v4                       DemonAttackDeterministic-v0\n",
      "DemonAttackDeterministic-v4          DemonAttackNoFrameskip-v0            DemonAttackNoFrameskip-v4\n",
      "DoubleDunk-ram-v0                    DoubleDunk-ram-v4                    DoubleDunk-ramDeterministic-v0\n",
      "DoubleDunk-ramDeterministic-v4       DoubleDunk-ramNoFrameskip-v0         DoubleDunk-ramNoFrameskip-v4\n",
      "DoubleDunk-v0                        DoubleDunk-v4                        DoubleDunkDeterministic-v0\n",
      "DoubleDunkDeterministic-v4           DoubleDunkNoFrameskip-v0             DoubleDunkNoFrameskip-v4\n",
      "ElevatorAction-ram-v0                ElevatorAction-ram-v4                ElevatorAction-ramDeterministic-v0\n",
      "ElevatorAction-ramDeterministic-v4   ElevatorAction-ramNoFrameskip-v0     ElevatorAction-ramNoFrameskip-v4\n",
      "ElevatorAction-v0                    ElevatorAction-v4                    ElevatorActionDeterministic-v0\n",
      "ElevatorActionDeterministic-v4       ElevatorActionNoFrameskip-v0         ElevatorActionNoFrameskip-v4\n",
      "Enduro-ram-v0                        Enduro-ram-v4                        Enduro-ramDeterministic-v0\n",
      "Enduro-ramDeterministic-v4           Enduro-ramNoFrameskip-v0             Enduro-ramNoFrameskip-v4\n",
      "Enduro-v0                            Enduro-v4                            EnduroDeterministic-v0\n",
      "EnduroDeterministic-v4               EnduroNoFrameskip-v0                 EnduroNoFrameskip-v4\n",
      "FishingDerby-ram-v0                  FishingDerby-ram-v4                  FishingDerby-ramDeterministic-v0\n",
      "FishingDerby-ramDeterministic-v4     FishingDerby-ramNoFrameskip-v0       FishingDerby-ramNoFrameskip-v4\n",
      "FishingDerby-v0                      FishingDerby-v4                      FishingDerbyDeterministic-v0\n",
      "FishingDerbyDeterministic-v4         FishingDerbyNoFrameskip-v0           FishingDerbyNoFrameskip-v4\n",
      "Freeway-ram-v0                       Freeway-ram-v4                       Freeway-ramDeterministic-v0\n",
      "Freeway-ramDeterministic-v4          Freeway-ramNoFrameskip-v0            Freeway-ramNoFrameskip-v4\n",
      "Freeway-v0                           Freeway-v4                           FreewayDeterministic-v0\n",
      "FreewayDeterministic-v4              FreewayNoFrameskip-v0                FreewayNoFrameskip-v4\n",
      "Frostbite-ram-v0                     Frostbite-ram-v4                     Frostbite-ramDeterministic-v0\n",
      "Frostbite-ramDeterministic-v4        Frostbite-ramNoFrameskip-v0          Frostbite-ramNoFrameskip-v4\n",
      "Frostbite-v0                         Frostbite-v4                         FrostbiteDeterministic-v0\n",
      "FrostbiteDeterministic-v4            FrostbiteNoFrameskip-v0              FrostbiteNoFrameskip-v4\n",
      "Gopher-ram-v0                        Gopher-ram-v4                        Gopher-ramDeterministic-v0\n",
      "Gopher-ramDeterministic-v4           Gopher-ramNoFrameskip-v0             Gopher-ramNoFrameskip-v4\n",
      "Gopher-v0                            Gopher-v4                            GopherDeterministic-v0\n",
      "GopherDeterministic-v4               GopherNoFrameskip-v0                 GopherNoFrameskip-v4\n",
      "Gravitar-ram-v0                      Gravitar-ram-v4                      Gravitar-ramDeterministic-v0\n",
      "Gravitar-ramDeterministic-v4         Gravitar-ramNoFrameskip-v0           Gravitar-ramNoFrameskip-v4\n",
      "Gravitar-v0                          Gravitar-v4                          GravitarDeterministic-v0\n",
      "GravitarDeterministic-v4             GravitarNoFrameskip-v0               GravitarNoFrameskip-v4\n",
      "Hero-ram-v0                          Hero-ram-v4                          Hero-ramDeterministic-v0\n",
      "Hero-ramDeterministic-v4             Hero-ramNoFrameskip-v0               Hero-ramNoFrameskip-v4\n",
      "Hero-v0                              Hero-v4                              HeroDeterministic-v0\n",
      "HeroDeterministic-v4                 HeroNoFrameskip-v0                   HeroNoFrameskip-v4\n",
      "IceHockey-ram-v0                     IceHockey-ram-v4                     IceHockey-ramDeterministic-v0\n",
      "IceHockey-ramDeterministic-v4        IceHockey-ramNoFrameskip-v0          IceHockey-ramNoFrameskip-v4\n",
      "IceHockey-v0                         IceHockey-v4                         IceHockeyDeterministic-v0\n",
      "IceHockeyDeterministic-v4            IceHockeyNoFrameskip-v0              IceHockeyNoFrameskip-v4\n",
      "Jamesbond-ram-v0                     Jamesbond-ram-v4                     Jamesbond-ramDeterministic-v0\n",
      "Jamesbond-ramDeterministic-v4        Jamesbond-ramNoFrameskip-v0          Jamesbond-ramNoFrameskip-v4\n",
      "Jamesbond-v0                         Jamesbond-v4                         JamesbondDeterministic-v0\n",
      "JamesbondDeterministic-v4            JamesbondNoFrameskip-v0              JamesbondNoFrameskip-v4\n",
      "JourneyEscape-ram-v0                 JourneyEscape-ram-v4                 JourneyEscape-ramDeterministic-v0\n",
      "JourneyEscape-ramDeterministic-v4    JourneyEscape-ramNoFrameskip-v0      JourneyEscape-ramNoFrameskip-v4\n",
      "JourneyEscape-v0                     JourneyEscape-v4                     JourneyEscapeDeterministic-v0\n",
      "JourneyEscapeDeterministic-v4        JourneyEscapeNoFrameskip-v0          JourneyEscapeNoFrameskip-v4\n",
      "Kangaroo-ram-v0                      Kangaroo-ram-v4                      Kangaroo-ramDeterministic-v0\n",
      "Kangaroo-ramDeterministic-v4         Kangaroo-ramNoFrameskip-v0           Kangaroo-ramNoFrameskip-v4\n",
      "Kangaroo-v0                          Kangaroo-v4                          KangarooDeterministic-v0\n",
      "KangarooDeterministic-v4             KangarooNoFrameskip-v0               KangarooNoFrameskip-v4\n",
      "Krull-ram-v0                         Krull-ram-v4                         Krull-ramDeterministic-v0\n",
      "Krull-ramDeterministic-v4            Krull-ramNoFrameskip-v0              Krull-ramNoFrameskip-v4\n",
      "Krull-v0                             Krull-v4                             KrullDeterministic-v0\n",
      "KrullDeterministic-v4                KrullNoFrameskip-v0                  KrullNoFrameskip-v4\n",
      "KungFuMaster-ram-v0                  KungFuMaster-ram-v4                  KungFuMaster-ramDeterministic-v0\n",
      "KungFuMaster-ramDeterministic-v4     KungFuMaster-ramNoFrameskip-v0       KungFuMaster-ramNoFrameskip-v4\n",
      "KungFuMaster-v0                      KungFuMaster-v4                      KungFuMasterDeterministic-v0\n",
      "KungFuMasterDeterministic-v4         KungFuMasterNoFrameskip-v0           KungFuMasterNoFrameskip-v4\n",
      "MontezumaRevenge-ram-v0              MontezumaRevenge-ram-v4              MontezumaRevenge-ramDeterministic-v0\n",
      "MontezumaRevenge-ramDeterministic-v4 MontezumaRevenge-ramNoFrameskip-v0   MontezumaRevenge-ramNoFrameskip-v4\n",
      "MontezumaRevenge-v0                  MontezumaRevenge-v4                  MontezumaRevengeDeterministic-v0\n",
      "MontezumaRevengeDeterministic-v4     MontezumaRevengeNoFrameskip-v0       MontezumaRevengeNoFrameskip-v4\n",
      "MsPacman-ram-v0                      MsPacman-ram-v4                      MsPacman-ramDeterministic-v0\n",
      "MsPacman-ramDeterministic-v4         MsPacman-ramNoFrameskip-v0           MsPacman-ramNoFrameskip-v4\n",
      "MsPacman-v0                          MsPacman-v4                          MsPacmanDeterministic-v0\n",
      "MsPacmanDeterministic-v4             MsPacmanNoFrameskip-v0               MsPacmanNoFrameskip-v4\n",
      "NameThisGame-ram-v0                  NameThisGame-ram-v4                  NameThisGame-ramDeterministic-v0\n",
      "NameThisGame-ramDeterministic-v4     NameThisGame-ramNoFrameskip-v0       NameThisGame-ramNoFrameskip-v4\n",
      "NameThisGame-v0                      NameThisGame-v4                      NameThisGameDeterministic-v0\n",
      "NameThisGameDeterministic-v4         NameThisGameNoFrameskip-v0           NameThisGameNoFrameskip-v4\n",
      "Phoenix-ram-v0                       Phoenix-ram-v4                       Phoenix-ramDeterministic-v0\n",
      "Phoenix-ramDeterministic-v4          Phoenix-ramNoFrameskip-v0            Phoenix-ramNoFrameskip-v4\n",
      "Phoenix-v0                           Phoenix-v4                           PhoenixDeterministic-v0\n",
      "PhoenixDeterministic-v4              PhoenixNoFrameskip-v0                PhoenixNoFrameskip-v4\n",
      "Pitfall-ram-v0                       Pitfall-ram-v4                       Pitfall-ramDeterministic-v0\n",
      "Pitfall-ramDeterministic-v4          Pitfall-ramNoFrameskip-v0            Pitfall-ramNoFrameskip-v4\n",
      "Pitfall-v0                           Pitfall-v4                           PitfallDeterministic-v0\n",
      "PitfallDeterministic-v4              PitfallNoFrameskip-v0                PitfallNoFrameskip-v4\n",
      "Pong-ram-v0                          Pong-ram-v4                          Pong-ramDeterministic-v0\n",
      "Pong-ramDeterministic-v4             Pong-ramNoFrameskip-v0               Pong-ramNoFrameskip-v4\n",
      "Pong-v0                              Pong-v4                              PongDeterministic-v0\n",
      "PongDeterministic-v4                 PongNoFrameskip-v0                   PongNoFrameskip-v4\n",
      "Pooyan-ram-v0                        Pooyan-ram-v4                        Pooyan-ramDeterministic-v0\n",
      "Pooyan-ramDeterministic-v4           Pooyan-ramNoFrameskip-v0             Pooyan-ramNoFrameskip-v4\n",
      "Pooyan-v0                            Pooyan-v4                            PooyanDeterministic-v0\n",
      "PooyanDeterministic-v4               PooyanNoFrameskip-v0                 PooyanNoFrameskip-v4\n",
      "PrivateEye-ram-v0                    PrivateEye-ram-v4                    PrivateEye-ramDeterministic-v0\n",
      "PrivateEye-ramDeterministic-v4       PrivateEye-ramNoFrameskip-v0         PrivateEye-ramNoFrameskip-v4\n",
      "PrivateEye-v0                        PrivateEye-v4                        PrivateEyeDeterministic-v0\n",
      "PrivateEyeDeterministic-v4           PrivateEyeNoFrameskip-v0             PrivateEyeNoFrameskip-v4\n",
      "Qbert-ram-v0                         Qbert-ram-v4                         Qbert-ramDeterministic-v0\n",
      "Qbert-ramDeterministic-v4            Qbert-ramNoFrameskip-v0              Qbert-ramNoFrameskip-v4\n",
      "Qbert-v0                             Qbert-v4                             QbertDeterministic-v0\n",
      "QbertDeterministic-v4                QbertNoFrameskip-v0                  QbertNoFrameskip-v4\n",
      "Riverraid-ram-v0                     Riverraid-ram-v4                     Riverraid-ramDeterministic-v0\n",
      "Riverraid-ramDeterministic-v4        Riverraid-ramNoFrameskip-v0          Riverraid-ramNoFrameskip-v4\n",
      "Riverraid-v0                         Riverraid-v4                         RiverraidDeterministic-v0\n",
      "RiverraidDeterministic-v4            RiverraidNoFrameskip-v0              RiverraidNoFrameskip-v4\n",
      "RoadRunner-ram-v0                    RoadRunner-ram-v4                    RoadRunner-ramDeterministic-v0\n",
      "RoadRunner-ramDeterministic-v4       RoadRunner-ramNoFrameskip-v0         RoadRunner-ramNoFrameskip-v4\n",
      "RoadRunner-v0                        RoadRunner-v4                        RoadRunnerDeterministic-v0\n",
      "RoadRunnerDeterministic-v4           RoadRunnerNoFrameskip-v0             RoadRunnerNoFrameskip-v4\n",
      "Robotank-ram-v0                      Robotank-ram-v4                      Robotank-ramDeterministic-v0\n",
      "Robotank-ramDeterministic-v4         Robotank-ramNoFrameskip-v0           Robotank-ramNoFrameskip-v4\n",
      "Robotank-v0                          Robotank-v4                          RobotankDeterministic-v0\n",
      "RobotankDeterministic-v4             RobotankNoFrameskip-v0               RobotankNoFrameskip-v4\n",
      "Seaquest-ram-v0                      Seaquest-ram-v4                      Seaquest-ramDeterministic-v0\n",
      "Seaquest-ramDeterministic-v4         Seaquest-ramNoFrameskip-v0           Seaquest-ramNoFrameskip-v4\n",
      "Seaquest-v0                          Seaquest-v4                          SeaquestDeterministic-v0\n",
      "SeaquestDeterministic-v4             SeaquestNoFrameskip-v0               SeaquestNoFrameskip-v4\n",
      "Skiing-ram-v0                        Skiing-ram-v4                        Skiing-ramDeterministic-v0\n",
      "Skiing-ramDeterministic-v4           Skiing-ramNoFrameskip-v0             Skiing-ramNoFrameskip-v4\n",
      "Skiing-v0                            Skiing-v4                            SkiingDeterministic-v0\n",
      "SkiingDeterministic-v4               SkiingNoFrameskip-v0                 SkiingNoFrameskip-v4\n",
      "Solaris-ram-v0                       Solaris-ram-v4                       Solaris-ramDeterministic-v0\n",
      "Solaris-ramDeterministic-v4          Solaris-ramNoFrameskip-v0            Solaris-ramNoFrameskip-v4\n",
      "Solaris-v0                           Solaris-v4                           SolarisDeterministic-v0\n",
      "SolarisDeterministic-v4              SolarisNoFrameskip-v0                SolarisNoFrameskip-v4\n",
      "SpaceInvaders-ram-v0                 SpaceInvaders-ram-v4                 SpaceInvaders-ramDeterministic-v0\n",
      "SpaceInvaders-ramDeterministic-v4    SpaceInvaders-ramNoFrameskip-v0      SpaceInvaders-ramNoFrameskip-v4\n",
      "SpaceInvaders-v0                     SpaceInvaders-v4                     SpaceInvadersDeterministic-v0\n",
      "SpaceInvadersDeterministic-v4        SpaceInvadersNoFrameskip-v0          SpaceInvadersNoFrameskip-v4\n",
      "StarGunner-ram-v0                    StarGunner-ram-v4                    StarGunner-ramDeterministic-v0\n",
      "StarGunner-ramDeterministic-v4       StarGunner-ramNoFrameskip-v0         StarGunner-ramNoFrameskip-v4\n",
      "StarGunner-v0                        StarGunner-v4                        StarGunnerDeterministic-v0\n",
      "StarGunnerDeterministic-v4           StarGunnerNoFrameskip-v0             StarGunnerNoFrameskip-v4\n",
      "Tennis-ram-v0                        Tennis-ram-v4                        Tennis-ramDeterministic-v0\n",
      "Tennis-ramDeterministic-v4           Tennis-ramNoFrameskip-v0             Tennis-ramNoFrameskip-v4\n",
      "Tennis-v0                            Tennis-v4                            TennisDeterministic-v0\n",
      "TennisDeterministic-v4               TennisNoFrameskip-v0                 TennisNoFrameskip-v4\n",
      "TimePilot-ram-v0                     TimePilot-ram-v4                     TimePilot-ramDeterministic-v0\n",
      "TimePilot-ramDeterministic-v4        TimePilot-ramNoFrameskip-v0          TimePilot-ramNoFrameskip-v4\n",
      "TimePilot-v0                         TimePilot-v4                         TimePilotDeterministic-v0\n",
      "TimePilotDeterministic-v4            TimePilotNoFrameskip-v0              TimePilotNoFrameskip-v4\n",
      "Tutankham-ram-v0                     Tutankham-ram-v4                     Tutankham-ramDeterministic-v0\n",
      "Tutankham-ramDeterministic-v4        Tutankham-ramNoFrameskip-v0          Tutankham-ramNoFrameskip-v4\n",
      "Tutankham-v0                         Tutankham-v4                         TutankhamDeterministic-v0\n",
      "TutankhamDeterministic-v4            TutankhamNoFrameskip-v0              TutankhamNoFrameskip-v4\n",
      "UpNDown-ram-v0                       UpNDown-ram-v4                       UpNDown-ramDeterministic-v0\n",
      "UpNDown-ramDeterministic-v4          UpNDown-ramNoFrameskip-v0            UpNDown-ramNoFrameskip-v4\n",
      "UpNDown-v0                           UpNDown-v4                           UpNDownDeterministic-v0\n",
      "UpNDownDeterministic-v4              UpNDownNoFrameskip-v0                UpNDownNoFrameskip-v4\n",
      "Venture-ram-v0                       Venture-ram-v4                       Venture-ramDeterministic-v0\n",
      "Venture-ramDeterministic-v4          Venture-ramNoFrameskip-v0            Venture-ramNoFrameskip-v4\n",
      "Venture-v0                           Venture-v4                           VentureDeterministic-v0\n",
      "VentureDeterministic-v4              VentureNoFrameskip-v0                VentureNoFrameskip-v4\n",
      "VideoPinball-ram-v0                  VideoPinball-ram-v4                  VideoPinball-ramDeterministic-v0\n",
      "VideoPinball-ramDeterministic-v4     VideoPinball-ramNoFrameskip-v0       VideoPinball-ramNoFrameskip-v4\n",
      "VideoPinball-v0                      VideoPinball-v4                      VideoPinballDeterministic-v0\n",
      "VideoPinballDeterministic-v4         VideoPinballNoFrameskip-v0           VideoPinballNoFrameskip-v4\n",
      "WizardOfWor-ram-v0                   WizardOfWor-ram-v4                   WizardOfWor-ramDeterministic-v0\n",
      "WizardOfWor-ramDeterministic-v4      WizardOfWor-ramNoFrameskip-v0        WizardOfWor-ramNoFrameskip-v4\n",
      "WizardOfWor-v0                       WizardOfWor-v4                       WizardOfWorDeterministic-v0\n",
      "WizardOfWorDeterministic-v4          WizardOfWorNoFrameskip-v0            WizardOfWorNoFrameskip-v4\n",
      "YarsRevenge-ram-v0                   YarsRevenge-ram-v4                   YarsRevenge-ramDeterministic-v0\n",
      "YarsRevenge-ramDeterministic-v4      YarsRevenge-ramNoFrameskip-v0        YarsRevenge-ramNoFrameskip-v4\n",
      "YarsRevenge-v0                       YarsRevenge-v4                       YarsRevengeDeterministic-v0\n",
      "YarsRevengeDeterministic-v4          YarsRevengeNoFrameskip-v0            YarsRevengeNoFrameskip-v4\n",
      "Zaxxon-ram-v0                        Zaxxon-ram-v4                        Zaxxon-ramDeterministic-v0\n",
      "Zaxxon-ramDeterministic-v4           Zaxxon-ramNoFrameskip-v0             Zaxxon-ramNoFrameskip-v4\n",
      "Zaxxon-v0                            Zaxxon-v4                            ZaxxonDeterministic-v0\n",
      "ZaxxonDeterministic-v4               ZaxxonNoFrameskip-v0                 ZaxxonNoFrameskip-v4\n",
      "\n",
      "===== ALE =====\n",
      "ALE/Adventure-ram-v5                 ALE/Adventure-v5                     ALE/AirRaid-ram-v5\n",
      "ALE/AirRaid-v5                       ALE/Alien-ram-v5                     ALE/Alien-v5\n",
      "ALE/Amidar-ram-v5                    ALE/Amidar-v5                        ALE/Assault-ram-v5\n",
      "ALE/Assault-v5                       ALE/Asterix-ram-v5                   ALE/Asterix-v5\n",
      "ALE/Asteroids-ram-v5                 ALE/Asteroids-v5                     ALE/Atlantis-ram-v5\n",
      "ALE/Atlantis-v5                      ALE/Atlantis2-ram-v5                 ALE/Atlantis2-v5\n",
      "ALE/Backgammon-ram-v5                ALE/Backgammon-v5                    ALE/BankHeist-ram-v5\n",
      "ALE/BankHeist-v5                     ALE/BasicMath-ram-v5                 ALE/BasicMath-v5\n",
      "ALE/BattleZone-ram-v5                ALE/BattleZone-v5                    ALE/BeamRider-ram-v5\n",
      "ALE/BeamRider-v5                     ALE/Berzerk-ram-v5                   ALE/Berzerk-v5\n",
      "ALE/Blackjack-ram-v5                 ALE/Blackjack-v5                     ALE/Bowling-ram-v5\n",
      "ALE/Bowling-v5                       ALE/Boxing-ram-v5                    ALE/Boxing-v5\n",
      "ALE/Breakout-ram-v5                  ALE/Breakout-v5                      ALE/Carnival-ram-v5\n",
      "ALE/Carnival-v5                      ALE/Casino-ram-v5                    ALE/Casino-v5\n",
      "ALE/Centipede-ram-v5                 ALE/Centipede-v5                     ALE/ChopperCommand-ram-v5\n",
      "ALE/ChopperCommand-v5                ALE/CrazyClimber-ram-v5              ALE/CrazyClimber-v5\n",
      "ALE/Crossbow-ram-v5                  ALE/Crossbow-v5                      ALE/Darkchambers-ram-v5\n",
      "ALE/Darkchambers-v5                  ALE/Defender-ram-v5                  ALE/Defender-v5\n",
      "ALE/DemonAttack-ram-v5               ALE/DemonAttack-v5                   ALE/DonkeyKong-ram-v5\n",
      "ALE/DonkeyKong-v5                    ALE/DoubleDunk-ram-v5                ALE/DoubleDunk-v5\n",
      "ALE/Earthworld-ram-v5                ALE/Earthworld-v5                    ALE/ElevatorAction-ram-v5\n",
      "ALE/ElevatorAction-v5                ALE/Enduro-ram-v5                    ALE/Enduro-v5\n",
      "ALE/Entombed-ram-v5                  ALE/Entombed-v5                      ALE/Et-ram-v5\n",
      "ALE/Et-v5                            ALE/FishingDerby-ram-v5              ALE/FishingDerby-v5\n",
      "ALE/FlagCapture-ram-v5               ALE/FlagCapture-v5                   ALE/Freeway-ram-v5\n",
      "ALE/Freeway-v5                       ALE/Frogger-ram-v5                   ALE/Frogger-v5\n",
      "ALE/Frostbite-ram-v5                 ALE/Frostbite-v5                     ALE/Galaxian-ram-v5\n",
      "ALE/Galaxian-v5                      ALE/Gopher-ram-v5                    ALE/Gopher-v5\n",
      "ALE/Gravitar-ram-v5                  ALE/Gravitar-v5                      ALE/Hangman-ram-v5\n",
      "ALE/Hangman-v5                       ALE/HauntedHouse-ram-v5              ALE/HauntedHouse-v5\n",
      "ALE/Hero-ram-v5                      ALE/Hero-v5                          ALE/HumanCannonball-ram-v5\n",
      "ALE/HumanCannonball-v5               ALE/IceHockey-ram-v5                 ALE/IceHockey-v5\n",
      "ALE/Jamesbond-ram-v5                 ALE/Jamesbond-v5                     ALE/JourneyEscape-ram-v5\n",
      "ALE/JourneyEscape-v5                 ALE/Kaboom-ram-v5                    ALE/Kaboom-v5\n",
      "ALE/Kangaroo-ram-v5                  ALE/Kangaroo-v5                      ALE/KeystoneKapers-ram-v5\n",
      "ALE/KeystoneKapers-v5                ALE/KingKong-ram-v5                  ALE/KingKong-v5\n",
      "ALE/Klax-ram-v5                      ALE/Klax-v5                          ALE/Koolaid-ram-v5\n",
      "ALE/Koolaid-v5                       ALE/Krull-ram-v5                     ALE/Krull-v5\n",
      "ALE/KungFuMaster-ram-v5              ALE/KungFuMaster-v5                  ALE/LaserGates-ram-v5\n",
      "ALE/LaserGates-v5                    ALE/LostLuggage-ram-v5               ALE/LostLuggage-v5\n",
      "ALE/MarioBros-ram-v5                 ALE/MarioBros-v5                     ALE/MiniatureGolf-ram-v5\n",
      "ALE/MiniatureGolf-v5                 ALE/MontezumaRevenge-ram-v5          ALE/MontezumaRevenge-v5\n",
      "ALE/MrDo-ram-v5                      ALE/MrDo-v5                          ALE/MsPacman-ram-v5\n",
      "ALE/MsPacman-v5                      ALE/NameThisGame-ram-v5              ALE/NameThisGame-v5\n",
      "ALE/Othello-ram-v5                   ALE/Othello-v5                       ALE/Pacman-ram-v5\n",
      "ALE/Pacman-v5                        ALE/Phoenix-ram-v5                   ALE/Phoenix-v5\n",
      "ALE/Pitfall-ram-v5                   ALE/Pitfall-v5                       ALE/Pitfall2-ram-v5\n",
      "ALE/Pitfall2-v5                      ALE/Pong-ram-v5                      ALE/Pong-v5\n",
      "ALE/Pooyan-ram-v5                    ALE/Pooyan-v5                        ALE/PrivateEye-ram-v5\n",
      "ALE/PrivateEye-v5                    ALE/Qbert-ram-v5                     ALE/Qbert-v5\n",
      "ALE/Riverraid-ram-v5                 ALE/Riverraid-v5                     ALE/RoadRunner-ram-v5\n",
      "ALE/RoadRunner-v5                    ALE/Robotank-ram-v5                  ALE/Robotank-v5\n",
      "ALE/Seaquest-ram-v5                  ALE/Seaquest-v5                      ALE/SirLancelot-ram-v5\n",
      "ALE/SirLancelot-v5                   ALE/Skiing-ram-v5                    ALE/Skiing-v5\n",
      "ALE/Solaris-ram-v5                   ALE/Solaris-v5                       ALE/SpaceInvaders-ram-v5\n",
      "ALE/SpaceInvaders-v5                 ALE/SpaceWar-ram-v5                  ALE/SpaceWar-v5\n",
      "ALE/StarGunner-ram-v5                ALE/StarGunner-v5                    ALE/Superman-ram-v5\n",
      "ALE/Superman-v5                      ALE/Surround-ram-v5                  ALE/Surround-v5\n",
      "ALE/Tennis-ram-v5                    ALE/Tennis-v5                        ALE/Tetris-ram-v5\n",
      "ALE/Tetris-v5                        ALE/TicTacToe3D-ram-v5               ALE/TicTacToe3D-v5\n",
      "ALE/TimePilot-ram-v5                 ALE/TimePilot-v5                     ALE/Trondead-ram-v5\n",
      "ALE/Trondead-v5                      ALE/Turmoil-ram-v5                   ALE/Turmoil-v5\n",
      "ALE/Tutankham-ram-v5                 ALE/Tutankham-v5                     ALE/UpNDown-ram-v5\n",
      "ALE/UpNDown-v5                       ALE/Venture-ram-v5                   ALE/Venture-v5\n",
      "ALE/VideoCheckers-ram-v5             ALE/VideoCheckers-v5                 ALE/VideoPinball-ram-v5\n",
      "ALE/VideoPinball-v5                  ALE/Videochess-ram-v5                ALE/Videochess-v5\n",
      "ALE/Videocube-ram-v5                 ALE/Videocube-v5                     ALE/WizardOfWor-ram-v5\n",
      "ALE/WizardOfWor-v5                   ALE/WordZapper-ram-v5                ALE/WordZapper-v5\n",
      "ALE/YarsRevenge-ram-v5               ALE/YarsRevenge-v5                   ALE/Zaxxon-ram-v5\n",
      "ALE/Zaxxon-v5\n",
      "\n"
     ]
    },
    {
     "name": "stderr",
     "output_type": "stream",
     "text": [
      "/home/alberto/anaconda3/envs/gymnasium/lib/python3.9/site-packages/tqdm/auto.py:22: TqdmWarning: IProgress not found. Please update jupyter and ipywidgets. See https://ipywidgets.readthedocs.io/en/stable/user_install.html\n",
      "  from .autonotebook import tqdm as notebook_tqdm\n"
     ]
    }
   ],
   "source": [
    "import gymnasium\n",
    "gymnasium.pprint_registry()"
   ]
  },
  {
   "cell_type": "markdown",
   "id": "5e7f51a7",
   "metadata": {},
   "source": [
    "Para poder cargar un entorno wrapped, se utilizará el método *make*, aunque este método tiene muchos parámetros, lo común es indicarle el id del entorno a cargar y el modo de renderizado que se quiere mostrar:\n",
    "- **gymnasium.make(id-entorno:str, render_mode:str)**\n",
    "El resto de parámetros podrán ser para indicar un temporizador del número máximo de acciones que se pueden tomar, otro temporizador para indicar cada cuanto se tiene que resetear el entorno, o para compatibilidad entre versiones de gymnasium. Finalmente, este método devuelve una instancia del entorno."
   ]
  },
  {
   "cell_type": "code",
   "execution_count": 35,
   "id": "a0b5c83c",
   "metadata": {},
   "outputs": [
    {
     "data": {
      "text/plain": [
       "<TimeLimit<OrderEnforcing<PassiveEnvChecker<CartPoleEnv<CartPole-v1>>>>>"
      ]
     },
     "execution_count": 35,
     "metadata": {},
     "output_type": "execute_result"
    }
   ],
   "source": [
    "gymnasium.make('CartPole-v1', render_mode=\"human\") "
   ]
  },
  {
   "cell_type": "markdown",
   "id": "d47552be",
   "metadata": {},
   "source": [
    "## Enviroment\n",
    "TODO MIRAR LO DE MULTIAGENTE DE PETTINGZOO (ES OTRA LIBRERÍA): https://github.com/Farama-Foundation/PettingZoo<br> <br>\n",
    "En esta clase, se encapsula el entorno que puede ser observado por el agente, se va a trabajar con el entorno *LunarLander*, para demostrar todas las propiedades de las clases entorno:\n",
    "\n",
    "<img src=\"./media/LunarLander.gif\" width=\"350px\"/>"
   ]
  },
  {
   "cell_type": "code",
   "execution_count": 4,
   "id": "33c4e5a4",
   "metadata": {},
   "outputs": [],
   "source": [
    "#Carga del entorno para trabajar con la clase\n",
    "lunarLander = gymnasium.make('LunarLander-v2', render_mode=\"human\") "
   ]
  },
  {
   "cell_type": "markdown",
   "id": "0812c7b8",
   "metadata": {},
   "source": [
    "Una clase del tipo entorno, consta de los siguientes atributos para facilitar su implementación:\n",
    "\n",
    "### Atributos\n",
    "\n",
    "- **action_space:** es el objeto de espacios correspondiente a las acciones válidas."
   ]
  },
  {
   "cell_type": "code",
   "execution_count": 10,
   "id": "ce4c7dbe",
   "metadata": {},
   "outputs": [
    {
     "name": "stdout",
     "output_type": "stream",
     "text": [
      "Discrete(4)\n",
      "<class 'gymnasium.spaces.discrete.Discrete'>\n"
     ]
    }
   ],
   "source": [
    "print(lunarLander.action_space)\n",
    "print(type(lunarLander.action_space))"
   ]
  },
  {
   "cell_type": "markdown",
   "id": "aaafa5fb",
   "metadata": {},
   "source": [
    "Como se puede apreciar *action_space* es un objeto del tipo Discrete, esta clase también es de gymnasium y representa un espacio finito de muchos elementos, concretamente números enteros. <br>\n",
    "Estos números, posteriormente representarán acciones (a definir por el modelo). Por ejemplo, las acciones del modelo anterior serían:\n",
    "- **0:** no hacer nada\n",
    "- **1:** encender el motor izquierdo\n",
    "- **2:** encender el motor principal (ambos)\n",
    "- **3:** encender el motor derecho\n",
    "\n",
    "Para crear un objeto de este tipo, será necesario indicar el número de elementos del espacio (4 en el caso anterior), el elemento más pequeño del espacio (inicio) y opcionalmente, una semilla en caso de querer que sea aleatorio."
   ]
  },
  {
   "cell_type": "code",
   "execution_count": 21,
   "id": "d7699de8",
   "metadata": {},
   "outputs": [
    {
     "name": "stdout",
     "output_type": "stream",
     "text": [
      "Discrete(2)\n"
     ]
    }
   ],
   "source": [
    "d = gymnasium.spaces.Discrete(2,start=0)\n",
    "print(d)"
   ]
  },
  {
   "cell_type": "markdown",
   "id": "49e3f057",
   "metadata": {},
   "source": [
    "- **observation_space:** es el espacio de observaciones de un entorno."
   ]
  },
  {
   "cell_type": "code",
   "execution_count": 66,
   "id": "0b99c2d7",
   "metadata": {},
   "outputs": [
    {
     "name": "stdout",
     "output_type": "stream",
     "text": [
      "[4.8000002e+00 3.4028235e+38 4.1887903e-01 3.4028235e+38]\n"
     ]
    }
   ],
   "source": [
    "#print(\"{}\".format(lunarLander.observation_space))\n",
    "print(lunarLander.observation_space.high)"
   ]
  },
  {
   "cell_type": "markdown",
   "id": "18f0db88",
   "metadata": {},
   "source": [
    "El espacio de observaciones, es un objeto tipo *Box*, el cual representa el producto cartesiano de dos intervalos n:\n",
    "<img src=\"./media/productoCartesiano.png\" width=\"350px\"/>\n",
    "Los límites de los intervalos pueden ser de una de las siguientes formas, $[a,b], (-\\infty,b],[a,\\infty) o (-\\infty,\\infty) $\n",
    "- \n"
   ]
  },
  {
   "cell_type": "code",
   "execution_count": 61,
   "id": "1b5a6f5e",
   "metadata": {},
   "outputs": [
    {
     "name": "stdout",
     "output_type": "stream",
     "text": [
      "Box(-2.0, [2. 4.], (2,), float32)\n"
     ]
    }
   ],
   "source": [
    "import numpy as np\n",
    "b = gymnasium.spaces.Box(low=-2.0, high=np.array([2.0, 4.0]), dtype=np.float32)\n",
    "print(b)"
   ]
  },
  {
   "cell_type": "markdown",
   "id": "6f9f1237",
   "metadata": {},
   "source": [
    "\n",
    "- **reward_range:** es una tupla que hace referencia a la máxima y mínima recompensa posible para el agente en un momento (por defecto es en ($-\\infty,+\\infty)$\n"
   ]
  },
  {
   "cell_type": "code",
   "execution_count": 7,
   "id": "736da69f",
   "metadata": {},
   "outputs": [
    {
     "ename": "NameError",
     "evalue": "name 'lunarLander' is not defined",
     "output_type": "error",
     "traceback": [
      "\u001b[0;31m---------------------------------------------------------------------------\u001b[0m",
      "\u001b[0;31mNameError\u001b[0m                                 Traceback (most recent call last)",
      "Cell \u001b[0;32mIn[7], line 1\u001b[0m\n\u001b[0;32m----> 1\u001b[0m \u001b[38;5;28mprint\u001b[39m(\u001b[43mlunarLander\u001b[49m\u001b[38;5;241m.\u001b[39mreward_range) \n\u001b[1;32m      3\u001b[0m \u001b[38;5;124;03m\"\"\"No se ha encontrado ningún modelo que tenga parámetros distintos a \u001b[39;00m\n\u001b[1;32m      4\u001b[0m \u001b[38;5;124;03mlos que se muestran\"\"\"\u001b[39;00m\n",
      "\u001b[0;31mNameError\u001b[0m: name 'lunarLander' is not defined"
     ]
    }
   ],
   "source": [
    "print(lunarLander.reward_range) \n",
    "\n",
    "\"\"\"No se ha encontrado ningún modelo que tenga parámetros distintos a \n",
    "los que se muestran\"\"\"\n"
   ]
  },
  {
   "cell_type": "markdown",
   "id": "b6757906",
   "metadata": {},
   "source": [
    "- **spec:** Contiene la información que ha utilizado el método make para inicializar el entorno.\n"
   ]
  },
  {
   "cell_type": "code",
   "execution_count": 83,
   "id": "f30dc4ba",
   "metadata": {},
   "outputs": [
    {
     "name": "stdout",
     "output_type": "stream",
     "text": [
      "EnvSpec(id='LunarLander-v2', entry_point='gymnasium.envs.box2d.lunar_lander:LunarLander', reward_threshold=200, nondeterministic=False, max_episode_steps=1000, order_enforce=True, autoreset=False, disable_env_checker=False, apply_api_compatibility=False, kwargs={}, namespace=None, name='LunarLander', version=2)\n"
     ]
    }
   ],
   "source": [
    "print(lunarLander.spec) "
   ]
  },
  {
   "cell_type": "markdown",
   "id": "3dbe6290",
   "metadata": {},
   "source": [
    "- **metadata:** Son los metadatos del entorno\n",
    "- **np_random:** El generador de números aleatorios para el entorno"
   ]
  },
  {
   "cell_type": "code",
   "execution_count": 86,
   "id": "92e66a36",
   "metadata": {},
   "outputs": [
    {
     "name": "stdout",
     "output_type": "stream",
     "text": [
      "{'render_modes': ['human', 'rgb_array'], 'render_fps': 50}\n",
      "\n",
      "Generator(PCG64)\n"
     ]
    }
   ],
   "source": [
    "print(str(lunarLander.metadata) + \"\\n\" ) \n",
    "print(lunarLander.np_random)"
   ]
  },
  {
   "cell_type": "markdown",
   "id": "3a5f1112",
   "metadata": {},
   "source": [
    "### Métodos\n",
    "Los métodos principales con los que se puede trabajar con el entorno son:\n",
    "\n",
    "# TODO preguntar que pasa con el reset al profesor\n",
    "- **reset(self, seed) &rarr; tuple[ObsType, dict[str, Any]]:** El entorno vuelve al estado inicial y devuelve la primera observación del agente e información como métricas, debug... este médoto, también renderiza el entorno al final de su ejecución\n",
    "\n",
    "En el caso de este entorno, es un vector de 8 dimensiones y cada una representa:\n",
    "1. Coordenada x de la nave\n",
    "2. Coordenada y de la nave\n",
    "3. Velocidad linear en x de la nave\n",
    "4. Velocidad linear en y de la nave\n",
    "5. Ángulo de la nave\n",
    "6. Velocidad angular de la nave\n",
    "7. Motor izquierdo en contacto con el suelo (booleano)\n",
    "8. Motor derecho en contacto con el suelo (booleano)\n"
   ]
  },
  {
   "cell_type": "code",
   "execution_count": 6,
   "id": "e7acb36e",
   "metadata": {},
   "outputs": [
    {
     "name": "stdout",
     "output_type": "stream",
     "text": [
      "La coordenada x de la nave es: -0.006235313601791859\n",
      "La coordenada y de la nave: 1.4109978675842285\n",
      "La velocidad linear en x de la nave es: -0.6315816044807434\n",
      "La velocidad linear en y de la nave es: 0.0034475468564778566\n",
      "El ángulo de la nave es: 0.007231917232275009\n",
      "La velocidad angular de la nave es: 0.14306268095970154\n",
      "Motor izquierdo en contacto?: 0.0\n",
      "Motor derecho en contacto?: 0.0\n",
      "Informacion extra: {}\n"
     ]
    }
   ],
   "source": [
    "observation, info = lunarLander.reset()\n",
    "\n",
    "print(\"La coordenada x de la nave es: {}\".format(observation[0]))\n",
    "print(\"La coordenada y de la nave: {}\".format(observation[1]))\n",
    "print(\"La velocidad linear en x de la nave es: {}\".format(observation[2]))\n",
    "print(\"La velocidad linear en y de la nave es: {}\".format(observation[3]))\n",
    "print(\"El ángulo de la nave es: {}\".format(observation[4]))\n",
    "print(\"La velocidad angular de la nave es: {}\".format(observation[5]))\n",
    "print(\"Motor izquierdo en contacto?: {}\".format(observation[6]))\n",
    "print(\"Motor derecho en contacto?: {}\".format(observation[7]))\n",
    "print(\"Informacion extra: {}\".format(info))\n"
   ]
  },
  {
   "cell_type": "markdown",
   "id": "2c50678a",
   "metadata": {},
   "source": [
    "- **step(self, action: ActType) &rarr; tuple[ObsType, SupportsFloat, bool, bool, dict[str, Any]]:** Actualiza el entorno con la acción pasada por parámetros, devolviendo la siguiente observación del agente, la recompensa obtenida, si la ejecución del entorno ha terminado debido a la última acción o se ha truncado (timeout o el agente se encuentra fuera de los límites) e información del entorno sobre la acción e información de depuración."
   ]
  },
  {
   "cell_type": "code",
   "execution_count": 8,
   "id": "83b3aca0",
   "metadata": {},
   "outputs": [
    {
     "name": "stdout",
     "output_type": "stream",
     "text": [
      "No se hace nada (en este caso unicamente se cae la nave): \n",
      "\n",
      "\n",
      "La coordenada x de la nave es: -0.025155162438750267\n",
      "La coordenada y de la nave: 1.4104490280151367\n",
      "La velocidad linear en x de la nave es: -0.6409107446670532\n",
      "La velocidad linear en y de la nave es: -0.014545747078955173\n",
      "El ángulo de la nave es: 0.027537941932678223\n",
      "La velocidad angular de la nave es: 0.13237515091896057\n",
      "Motor izquierdo en contacto?: 0.0\n",
      "Recompensa obtenida: -0.646090397765505\n",
      "Terminado?: False\n",
      "Truncado?: False\n",
      "Info extra: {}\n",
      "\n",
      "\n",
      "Se encienden los dos motores: \n",
      "\n",
      "\n",
      "La coordenada x de la nave es: -0.03164844587445259\n",
      "La coordenada y de la nave: 1.4103515148162842\n",
      "La velocidad linear en x de la nave es: -0.6553610563278198\n",
      "La velocidad linear en y de la nave es: -0.00445215729996562\n",
      "El ángulo de la nave es: 0.03350500762462616\n",
      "La velocidad angular de la nave es: 0.11935259401798248\n",
      "Motor izquierdo en contacto?: 0.0\n",
      "Motor derecho en contacto?: 0.0\n",
      "Recompensa obtenida: -2.330074567044238\n",
      "Terminado?: False\n",
      "Truncado?: False\n",
      "Info extra: {}\n"
     ]
    }
   ],
   "source": [
    "observation, reward, terminated, truncated, info = lunarLander.step(0)\n",
    "#No se hace nada \n",
    "print(\"No se hace nada (en este caso unicamente se cae la nave): \\n\\n\")\n",
    "print(\"La coordenada x de la nave es: {}\".format(observation[0]))\n",
    "print(\"La coordenada y de la nave: {}\".format(observation[1]))\n",
    "print(\"La velocidad linear en x de la nave es: {}\".format(observation[2]))\n",
    "print(\"La velocidad linear en y de la nave es: {}\".format(observation[3]))\n",
    "print(\"El ángulo de la nave es: {}\".format(observation[4]))\n",
    "print(\"La velocidad angular de la nave es: {}\".format(observation[5]))\n",
    "print(\"Motor izquierdo en contacto?: {}\".format(observation[6]))\n",
    "print(\"Recompensa obtenida: {}\".format(reward))\n",
    "print(\"Terminado?: {}\".format(terminated))\n",
    "print(\"Truncado?: {}\".format(truncated))\n",
    "print(\"Info extra: {}\".format(info))\n",
    "\n",
    "\n",
    "\n",
    "observation, reward, terminated, truncated, info = lunarLander.step(2) \n",
    "#Se encienden los dos motores\n",
    "print(\"\\n\\nSe encienden los dos motores: \\n\\n\")\n",
    "print(\"La coordenada x de la nave es: {}\".format(observation[0]))\n",
    "print(\"La coordenada y de la nave: {}\".format(observation[1]))\n",
    "print(\"La velocidad linear en x de la nave es: {}\".format(observation[2]))\n",
    "print(\"La velocidad linear en y de la nave es: {}\".format(observation[3]))\n",
    "print(\"El ángulo de la nave es: {}\".format(observation[4]))\n",
    "print(\"La velocidad angular de la nave es: {}\".format(observation[5]))\n",
    "print(\"Motor izquierdo en contacto?: {}\".format(observation[6]))\n",
    "print(\"Motor derecho en contacto?: {}\".format(observation[7]))\n",
    "print(\"Recompensa obtenida: {}\".format(reward))\n",
    "print(\"Terminado?: {}\".format(terminated))\n",
    "print(\"Truncado?: {}\".format(truncated))\n",
    "print(\"Info extra: {}\".format(info))\n"
   ]
  },
  {
   "cell_type": "markdown",
   "id": "bd8af9ca",
   "metadata": {},
   "source": [
    "En este caso, se puede apreciar que la coordenada *y* desciende la primera vez 0.5 al no realizar ninguna acción. <br> <br>\n",
    "Después de realizar el segundo paso (encender ambos motores), el descenso en el eje *y* es de 0.1 (mucho menor que en la primera ejecución), por lo que se demuestra que se ha ejecutado la acción, ya que al encenderse ambos motores no se ha producido un descenso tan grande como en la primera."
   ]
  },
  {
   "cell_type": "markdown",
   "id": "759a4980",
   "metadata": {},
   "source": [
    "- **render(self) &rarr; RenderFrame | list[RenderFrame] | None:** Renderiza el entorno para que se pueda visualizar. Es necesario que se especifique el tipo de renderizado a la hora de realizar el *make* "
   ]
  },
  {
   "cell_type": "code",
   "execution_count": 37,
   "id": "be960ca6",
   "metadata": {},
   "outputs": [],
   "source": [
    "lunarLander.reset()\n",
    "lunarLander.render()"
   ]
  },
  {
   "cell_type": "markdown",
   "id": "5b7b34c2",
   "metadata": {},
   "source": [
    "- **close(self):** cierra el entorno y acaba la ejecución (similar a cuandos se cierra un fichero)."
   ]
  },
  {
   "cell_type": "code",
   "execution_count": 10,
   "id": "b6ede7d3",
   "metadata": {},
   "outputs": [],
   "source": [
    "lunarLander.close()"
   ]
  },
  {
   "cell_type": "markdown",
   "id": "987e5511",
   "metadata": {},
   "source": [
    "Una vez vistos todos los métodos y atributos, se va a probar a realizar una pequeña ejecución sobre el agente y el entorno en la que se van a renderizar unos pasos para comprobar gráficamente como interaccionan los elementos:"
   ]
  },
  {
   "cell_type": "code",
   "execution_count": 9,
   "id": "102e4c0a",
   "metadata": {},
   "outputs": [],
   "source": [
    "import time\n",
    "lunarLander.reset()\n",
    "lunarLander.step(0) #no se hace nada (desciende en y)\n",
    "lunarLander.render()\n",
    "time.sleep(5)\n",
    "\n",
    "lunarLander.step(1) #se enciende el motor izquierdo (giro angular hacia la derecha)\n",
    "lunarLander.render()\n",
    "time.sleep(5)\n",
    "lunarLander.close()"
   ]
  },
  {
   "cell_type": "markdown",
   "id": "050ce671",
   "metadata": {},
   "source": [
    "## Wrappers\n",
    "Esta clase, sirve para poder modificar un entorno existente sin tener que modificar el código directamente, haciendo que sean modulares, es decir, son una especie de intermediario entre el código fuente del entorno y el programador. Al realizar el método *make*, los métodos se generan por defecto. Para poder modificar un entorno, será necesario inicializar el entorno base para luego modificarlo con los parámetros extra. Un ejemplo en el que se modifican las acciones sería:"
   ]
  },
  {
   "cell_type": "code",
   "execution_count": 6,
   "id": "55e3bfe6",
   "metadata": {},
   "outputs": [
    {
     "name": "stdout",
     "output_type": "stream",
     "text": [
      "Box(-1.0, 1.0, (4,), float32)\n",
      "Box(-1.0, 1.0, (4,), float32)\n"
     ]
    }
   ],
   "source": [
    "import numpy as np\n",
    "import gymnasium as gym\n",
    "from gymnasium.wrappers import RescaleAction\n",
    "env = gym.make(\"BipedalWalker-v3\")\n",
    "print(env.action_space)\n",
    "\n",
    "min_action = np.array([0.0, 0.0, 0.0, 0.0])\n",
    "max_action = np.array([0.45, 0.5, 1.0, 0.75])\n",
    "env = RescaleAction(env, min_action=min_action, max_action=max_action)\n",
    "print(env.action_space)\n"
   ]
  },
  {
   "cell_type": "code",
   "execution_count": null,
   "id": "13755a80",
   "metadata": {},
   "outputs": [],
   "source": []
  },
  {
   "cell_type": "code",
   "execution_count": null,
   "id": "757d7435",
   "metadata": {},
   "outputs": [],
   "source": []
  },
  {
   "cell_type": "code",
   "execution_count": null,
   "id": "63903ca1",
   "metadata": {},
   "outputs": [],
   "source": []
  },
  {
   "cell_type": "code",
   "execution_count": null,
   "id": "1c9455af",
   "metadata": {},
   "outputs": [],
   "source": []
  },
  {
   "cell_type": "markdown",
   "id": "31cac988",
   "metadata": {},
   "source": [
    "## Vectors"
   ]
  },
  {
   "cell_type": "markdown",
   "id": "a7a0a194",
   "metadata": {},
   "source": [
    "Esta clase, sirve para poder ejecutar copias del mismo entorno al mismo tiempo. Con esta clase, se podría aumentar la velocidad del entrenamiento en algunos casos al poder ejecutar paralelamente muchos casos. A estos entornos, se les denominarán *entornos vectoriales*. Finalmente, tienen los siguientes atributos:\n",
    "- **num_envs:** El número de sub-entornos que se encuentran en el vector.\n",
    "- **observation_space:** espacio de observaciones del entorno vectorial.\n",
    "- **single_observation_space:** espacio de observaciones para un único entorno del vector.\n",
    "- **action_space:** el espacio de acciones agrupado del entorno vectorial.\n",
    "- **single_action_space:** el espacio de acciones de un único entorno del vector."
   ]
  },
  {
   "cell_type": "markdown",
   "id": "294e8c76",
   "metadata": {},
   "source": [
    "### Métodos\n",
    "- **reset():** Igual que el anterior, pero resetea todos los entornos paralelos, devolviendo una agrupación de observaciones e información del entorno vectorial.\n",
    "- **step():** Igual que el anterior, per se le pasa un conjunto de acciones con el que cada entorno del vector tomará una acción.\n",
    "- **close():** Cierra todos los entornos del vector\n",
    "\n",
    "<br>\n",
    "Para crear un entorno vectorial, se hará de la misma forma que en el anterior pero con un pequeño cambio:"
   ]
  },
  {
   "cell_type": "code",
   "execution_count": 8,
   "id": "0b55a6f5",
   "metadata": {},
   "outputs": [
    {
     "data": {
      "text/plain": [
       "(array([[-0.01876395,  0.0314865 ,  0.0395258 , -0.01786517],\n",
       "        [-0.02476006,  0.0216246 , -0.01668862,  0.04014067],\n",
       "        [ 0.01843816, -0.04881953, -0.04991993, -0.04886381]],\n",
       "       dtype=float32),\n",
       " {})"
      ]
     },
     "execution_count": 8,
     "metadata": {},
     "output_type": "execute_result"
    }
   ],
   "source": [
    "import gymnasium as gym\n",
    "env = gym.vector.make('CartPole-v1', num_envs=3)\n",
    "env.reset()"
   ]
  },
  {
   "cell_type": "markdown",
   "id": "bb85737c",
   "metadata": {},
   "source": [
    "Finalmente, habrá dos tipos de entornos vectoriales:\n",
    "- Asíncronos (Async Vector Env). Múltiples entornos en paralelo\n",
    "- Síncronos (Sync Vector Env). Múltiples entornos seguidos"
   ]
  },
  {
   "cell_type": "code",
   "execution_count": null,
   "id": "bf89fe13",
   "metadata": {},
   "outputs": [],
   "source": []
  }
 ],
 "metadata": {
  "kernelspec": {
   "display_name": "Python 3 (ipykernel)",
   "language": "python",
   "name": "python3"
  },
  "language_info": {
   "codemirror_mode": {
    "name": "ipython",
    "version": 3
   },
   "file_extension": ".py",
   "mimetype": "text/x-python",
   "name": "python",
   "nbconvert_exporter": "python",
   "pygments_lexer": "ipython3",
   "version": "3.9.15"
  }
 },
 "nbformat": 4,
 "nbformat_minor": 5
}
